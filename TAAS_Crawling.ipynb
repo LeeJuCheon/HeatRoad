{
 "cells": [
  {
   "cell_type": "code",
   "execution_count": 1,
   "id": "b417a7dc",
   "metadata": {},
   "outputs": [
    {
     "name": "stdout",
     "output_type": "stream",
     "text": [
      "Requirement already satisfied: selenium in c:\\users\\user\\anaconda3\\lib\\site-packages (3.141.0)\n",
      "Requirement already satisfied: urllib3 in c:\\users\\user\\anaconda3\\lib\\site-packages (from selenium) (1.26.4)\n"
     ]
    }
   ],
   "source": [
    "!pip install selenium     "
   ]
  },
  {
   "cell_type": "code",
   "execution_count": 2,
   "id": "51a848e4",
   "metadata": {},
   "outputs": [
    {
     "name": "stdout",
     "output_type": "stream",
     "text": [
      "Collecting pyautogui\n",
      "  Downloading PyAutoGUI-0.9.53.tar.gz (59 kB)\n",
      "Collecting pymsgbox\n",
      "  Downloading PyMsgBox-1.0.9.tar.gz (18 kB)\n",
      "  Installing build dependencies: started\n",
      "  Installing build dependencies: finished with status 'done'\n",
      "  Getting requirements to build wheel: started\n",
      "  Getting requirements to build wheel: finished with status 'done'\n",
      "    Preparing wheel metadata: started\n",
      "    Preparing wheel metadata: finished with status 'done'\n",
      "Collecting PyTweening>=1.0.1\n",
      "  Downloading pytweening-1.0.4.tar.gz (14 kB)\n",
      "Collecting pyscreeze>=0.1.21\n",
      "  Downloading PyScreeze-0.1.28.tar.gz (25 kB)\n",
      "  Installing build dependencies: started\n",
      "  Installing build dependencies: finished with status 'done'\n",
      "  Getting requirements to build wheel: started\n",
      "  Getting requirements to build wheel: finished with status 'done'\n",
      "    Preparing wheel metadata: started\n",
      "    Preparing wheel metadata: finished with status 'done'\n",
      "Collecting pygetwindow>=0.0.5\n",
      "  Downloading PyGetWindow-0.0.9.tar.gz (9.7 kB)\n",
      "Collecting mouseinfo\n",
      "  Downloading MouseInfo-0.1.3.tar.gz (10 kB)\n",
      "Collecting pyrect\n",
      "  Downloading PyRect-0.1.4.tar.gz (15 kB)\n",
      "Requirement already satisfied: Pillow>=6.2.1 in c:\\users\\user\\anaconda3\\lib\\site-packages (from pyscreeze>=0.1.21->pyautogui) (8.2.0)\n",
      "Collecting pyperclip\n",
      "  Downloading pyperclip-1.8.2.tar.gz (20 kB)\n",
      "Building wheels for collected packages: pyautogui, pygetwindow, pyscreeze, PyTweening, mouseinfo, pymsgbox, pyperclip, pyrect\n",
      "  Building wheel for pyautogui (setup.py): started\n",
      "  Building wheel for pyautogui (setup.py): finished with status 'done'\n",
      "  Created wheel for pyautogui: filename=PyAutoGUI-0.9.53-py3-none-any.whl size=36583 sha256=20a2472183f113b584be6784993d6124c95848bbc524f0a956c5be97b87c3669\n",
      "  Stored in directory: c:\\users\\user\\appdata\\local\\pip\\cache\\wheels\\54\\04\\f7\\55704a9d374ed923785a4fdc0ef00151fa25306b3b93345532\n",
      "  Building wheel for pygetwindow (setup.py): started\n",
      "  Building wheel for pygetwindow (setup.py): finished with status 'done'\n",
      "  Created wheel for pygetwindow: filename=PyGetWindow-0.0.9-py3-none-any.whl size=11078 sha256=40e4586aba3a06eca232e9beec29198e0dada15fca4932fb615ffbe668ad3f6d\n",
      "  Stored in directory: c:\\users\\user\\appdata\\local\\pip\\cache\\wheels\\91\\e3\\04\\184bda98ec7f7d5f0ba1f372bcf7b3ba86325151ae1dd690fe\n",
      "  Building wheel for pyscreeze (PEP 517): started\n",
      "  Building wheel for pyscreeze (PEP 517): finished with status 'done'\n",
      "  Created wheel for pyscreeze: filename=PyScreeze-0.1.28-py3-none-any.whl size=13023 sha256=25d7b4f3edb645cf0fe0da50f2001a30ad160de971dac417d7cc87b6c35fe2de\n",
      "  Stored in directory: c:\\users\\user\\appdata\\local\\pip\\cache\\wheels\\b1\\b0\\5c\\9fb5beb2d6c708479a670e92f4ab3b54523a15c9cd4a46e24e\n",
      "  Building wheel for PyTweening (setup.py): started\n",
      "  Building wheel for PyTweening (setup.py): finished with status 'done'\n",
      "  Created wheel for PyTweening: filename=pytweening-1.0.4-py3-none-any.whl size=5825 sha256=c615540ccafc4ef54eaf77e3ce119ae9a916cd662b8efc74377dda3bd6f3ee5f\n",
      "  Stored in directory: c:\\users\\user\\appdata\\local\\pip\\cache\\wheels\\a2\\1b\\69\\dc477653ccc19228bf53af76c623e4e82e5dc1b6f78d5c4d35\n",
      "  Building wheel for mouseinfo (setup.py): started\n",
      "  Building wheel for mouseinfo (setup.py): finished with status 'done'\n",
      "  Created wheel for mouseinfo: filename=MouseInfo-0.1.3-py3-none-any.whl size=10905 sha256=344b1fc7de03239b4e562d1979eb5348e01d0022ebb9e4f3c4dd5844da532478\n",
      "  Stored in directory: c:\\users\\user\\appdata\\local\\pip\\cache\\wheels\\d1\\72\\fb\\35f403de66285df8ecca7049bcc61bfb57aba0f76d1f08f7eb\n",
      "  Building wheel for pymsgbox (PEP 517): started\n",
      "  Building wheel for pymsgbox (PEP 517): finished with status 'done'\n",
      "  Created wheel for pymsgbox: filename=PyMsgBox-1.0.9-py3-none-any.whl size=7420 sha256=1c98ecd45a176a0b4fb24afdfae7f0cf807722538f064d5763f7de4cb3020596\n",
      "  Stored in directory: c:\\users\\user\\appdata\\local\\pip\\cache\\wheels\\91\\28\\0d\\f4eb606d38276836237d6dc2abf094241e6db5682a126e0389\n",
      "  Building wheel for pyperclip (setup.py): started\n",
      "  Building wheel for pyperclip (setup.py): finished with status 'done'\n",
      "  Created wheel for pyperclip: filename=pyperclip-1.8.2-py3-none-any.whl size=11107 sha256=fdda787d75db3e0830736330dffc316e7e580b621050e64410671044db1a5576\n",
      "  Stored in directory: c:\\users\\user\\appdata\\local\\pip\\cache\\wheels\\7f\\1a\\65\\84ff8c386bec21fca6d220ea1f5498a0367883a78dd5ba6122\n",
      "  Building wheel for pyrect (setup.py): started\n",
      "  Building wheel for pyrect (setup.py): finished with status 'done'\n",
      "  Created wheel for pyrect: filename=PyRect-0.1.4-py2.py3-none-any.whl size=9547 sha256=2e457aa65a5c6ce3a2be654c8e8f4c9f221ea6a1db17bc6f37d187b585cd1605\n",
      "  Stored in directory: c:\\users\\user\\appdata\\local\\pip\\cache\\wheels\\d1\\e4\\47\\c62f8291b16b6df7e89ac885881ff71f35ca04c6e384251de9\n",
      "Successfully built pyautogui pygetwindow pyscreeze PyTweening mouseinfo pymsgbox pyperclip pyrect\n",
      "Installing collected packages: pyrect, pyperclip, PyTweening, pyscreeze, pymsgbox, pygetwindow, mouseinfo, pyautogui\n",
      "Successfully installed PyTweening-1.0.4 mouseinfo-0.1.3 pyautogui-0.9.53 pygetwindow-0.0.9 pymsgbox-1.0.9 pyperclip-1.8.2 pyrect-0.1.4 pyscreeze-0.1.28\n"
     ]
    }
   ],
   "source": [
    "!pip install pyautogui"
   ]
  },
  {
   "cell_type": "code",
   "execution_count": 9,
   "id": "a287a076",
   "metadata": {},
   "outputs": [
    {
     "name": "stdout",
     "output_type": "stream",
     "text": [
      "++++++++++++++++++++++++++++++++++++++++++++++++++++++++++++++++++++++++++++++++++++++++++++++++++++\n",
      "교통사고분석시스템 GIS\n",
      "http://taas.koroad.or.kr/gis/mcm/mcl/initMap.do?menuId=GIS_GMP_STS_RSN\n",
      "TAAS 좌표 크롤링\n",
      "----------------------------------------------------------------------------------------------------\n"
     ]
    }
   ],
   "source": [
    "from selenium import webdriver\n",
    "from selenium.webdriver.support.ui import Select\n",
    "from selenium.webdriver.common.keys import Keys\n",
    "from selenium.webdriver import ActionChains\n",
    "import pandas as pd\n",
    "import numpy as np\n",
    "import time\n",
    "import requests\n",
    "import pyautogui \n",
    "import pyperclip\n",
    "\n",
    "df = pd.read_csv('accidentInfoList.csv')\n",
    "# selenium에서 사용할 웹 드라이버 절대 경로 정보\n",
    "chromedriver = 'C:\\WebDriver\\chromedriver.exe'\n",
    "# selenum의 webdriver에 앞서 설치한 chromedirver를 연동한다.\n",
    "driver = webdriver.Chrome(chromedriver)\n",
    "# driver로 특정 페이지를 크롤링한다.\n",
    "driver.get('http://taas.koroad.or.kr/gis/mcm/mcl/initMap.do?menuId=GIS_GMP_STS_RSN')\n",
    "\n",
    "print(\"+\" * 100)\n",
    "print(driver.title)   # 크롤링한 페이지의 title 정보\n",
    "print(driver.current_url)  # 현재 크롤링된 페이지의 url\n",
    "print(\"TAAS 좌표 크롤링\")\n",
    "print(\"-\" * 100)\n",
    "\n"
   ]
  },
  {
   "cell_type": "code",
   "execution_count": 10,
   "id": "19683f4d",
   "metadata": {},
   "outputs": [],
   "source": [
    "startyear_select=Select(driver.find_element_by_css_selector('#ptsRafYearStart'))\n",
    "startyear_select.select_by_value('2017')\n",
    "time.sleep(3)\n",
    "\n",
    "sgg_select=Select(driver.find_element_by_css_selector('#ptsRafSigungu'))\n",
    "sgg_select.select_by_value('01')\n",
    "time.sleep(3)\n",
    "\n",
    "j_acci=driver.find_element_by_css_selector(\"#ptsRafCh1AccidentContent > li:nth-child(2) > input[type=checkbox]\")\n",
    "if j_acci.is_selected():\n",
    "    print('Check box is already selected')\n",
    "else:\n",
    "    j_acci.click()\n",
    "\n",
    "g_acci=driver.find_element_by_css_selector(\"#ptsRafCh1AccidentContent > li:nth-child(3) > input[type=checkbox]\")\n",
    "if g_acci.is_selected():\n",
    "    print('Check box is already selected')\n",
    "else:\n",
    "    g_acci.click()\n",
    "    \n",
    "    \n",
    "b_acci=driver.find_element_by_css_selector(\"#ptsRafCh1AccidentContent > li:nth-child(4) > input[type=checkbox]\")\n",
    "if b_acci.is_selected():\n",
    "    print('Check box is already selected')\n",
    "else:\n",
    "    b_acci.click()\n",
    "    \n"
   ]
  },
  {
   "cell_type": "code",
   "execution_count": 11,
   "id": "7f9d3d92",
   "metadata": {},
   "outputs": [],
   "source": [
    "road_statusbtn = driver.find_element_by_css_selector(\"#ptsRaf-RDSE_STTUS_CODE > a\")\n",
    "road_statusbtn.click()\n",
    "time.sleep(3)\n",
    "\n",
    "p_sg=driver.find_element_by_css_selector(\"#ptsRafCh2Roadbed > li:nth-child(2) > ul > li:nth-child(3) > span > input[type=checkbox]\")\n",
    "p_sg.click()\n",
    "\n",
    "p_js=driver.find_element_by_css_selector(\"#ptsRafCh2Roadbed > li:nth-child(2) > ul > li:nth-child(4) > span > input[type=checkbox]\")\n",
    "p_js.click()\n",
    "\n",
    "\n",
    "ELEMENT = driver.find_elements_by_css_selector(\"#ptsRaf-RDSE_STTUS_CODE > div > div\")[-1]\n",
    "\n",
    "# ELEMENT 가 화면에 보이도록 스크롤 조정 --> 아래 부분 추가로 확장됨\n",
    "driver.execute_script(\"arguments[0].scrollIntoView(true);\", ELEMENT);\n",
    "time.sleep(3)\n",
    "\n",
    "b_sg=driver.find_element_by_css_selector(\"#ptsRafCh2Roadbed > li.collapsable.lastCollapsable > ul > li:nth-child(3) > span > input[type=checkbox]\")\n",
    "b_sg.click()\n",
    "\n",
    "b_js=driver.find_element_by_css_selector(\"#ptsRafCh2Roadbed > li.collapsable.lastCollapsable > ul > li:nth-child(4) > span > input[type=checkbox]\")\n",
    "b_js.click()\n",
    "\n",
    "#이후 닫기버튼 직접 누르기"
   ]
  },
  {
   "cell_type": "code",
   "execution_count": 165,
   "id": "946e2157",
   "metadata": {},
   "outputs": [],
   "source": [
    "search_btn= driver.find_element_by_css_selector(\"#regionAccidentFind > div.condition-wrap > p > a\")\n",
    "search_btn.click()"
   ]
  },
  {
   "cell_type": "code",
   "execution_count": null,
   "id": "acfcc223",
   "metadata": {},
   "outputs": [],
   "source": [
    "#F12 - 주석 해제"
   ]
  },
  {
   "cell_type": "code",
   "execution_count": 12,
   "id": "ccacef06",
   "metadata": {},
   "outputs": [
    {
     "ename": "NoSuchElementException",
     "evalue": "Message: no such element: Unable to locate element: {\"method\":\"css selector\",\"selector\":\"#rafAcdntInfoPoiList > li:nth-child(10)\"}\n  (Session info: chrome=94.0.4606.61)\n",
     "output_type": "error",
     "traceback": [
      "\u001b[1;31m---------------------------------------------------------------------------\u001b[0m",
      "\u001b[1;31mNoSuchElementException\u001b[0m                    Traceback (most recent call last)",
      "\u001b[1;32m<ipython-input-12-e05a2f4f22e9>\u001b[0m in \u001b[0;36m<module>\u001b[1;34m\u001b[0m\n\u001b[0;32m      3\u001b[0m \u001b[1;32mfor\u001b[0m \u001b[0mj\u001b[0m \u001b[1;32min\u001b[0m \u001b[0mrange\u001b[0m\u001b[1;33m(\u001b[0m\u001b[1;36m0\u001b[0m\u001b[1;33m,\u001b[0m\u001b[1;36m55\u001b[0m\u001b[1;33m)\u001b[0m\u001b[1;33m:\u001b[0m\u001b[1;33m\u001b[0m\u001b[1;33m\u001b[0m\u001b[0m\n\u001b[0;32m      4\u001b[0m     \u001b[1;32mfor\u001b[0m \u001b[0mi\u001b[0m \u001b[1;32min\u001b[0m \u001b[0mrange\u001b[0m\u001b[1;33m(\u001b[0m\u001b[1;36m2\u001b[0m\u001b[1;33m,\u001b[0m\u001b[1;36m12\u001b[0m\u001b[1;33m)\u001b[0m\u001b[1;33m:\u001b[0m\u001b[1;33m\u001b[0m\u001b[1;33m\u001b[0m\u001b[0m\n\u001b[1;32m----> 5\u001b[1;33m         \u001b[0maddr_btn\u001b[0m\u001b[1;33m=\u001b[0m \u001b[0mdriver\u001b[0m\u001b[1;33m.\u001b[0m\u001b[0mfind_element_by_css_selector\u001b[0m\u001b[1;33m(\u001b[0m\u001b[1;34mf\"#rafAcdntInfoPoiList > li:nth-child({i})\"\u001b[0m\u001b[1;33m)\u001b[0m\u001b[1;33m\u001b[0m\u001b[1;33m\u001b[0m\u001b[0m\n\u001b[0m\u001b[0;32m      6\u001b[0m         \u001b[0maddr_btn\u001b[0m\u001b[1;33m.\u001b[0m\u001b[0mclick\u001b[0m\u001b[1;33m(\u001b[0m\u001b[1;33m)\u001b[0m\u001b[1;33m\u001b[0m\u001b[1;33m\u001b[0m\u001b[0m\n\u001b[0;32m      7\u001b[0m         \u001b[0mtime\u001b[0m\u001b[1;33m.\u001b[0m\u001b[0msleep\u001b[0m\u001b[1;33m(\u001b[0m\u001b[1;36m3\u001b[0m\u001b[1;33m)\u001b[0m\u001b[1;33m\u001b[0m\u001b[1;33m\u001b[0m\u001b[0m\n",
      "\u001b[1;32m~\\anaconda3\\lib\\site-packages\\selenium\\webdriver\\remote\\webdriver.py\u001b[0m in \u001b[0;36mfind_element_by_css_selector\u001b[1;34m(self, css_selector)\u001b[0m\n\u001b[0;32m    596\u001b[0m             \u001b[0melement\u001b[0m \u001b[1;33m=\u001b[0m \u001b[0mdriver\u001b[0m\u001b[1;33m.\u001b[0m\u001b[0mfind_element_by_css_selector\u001b[0m\u001b[1;33m(\u001b[0m\u001b[1;34m'#foo'\u001b[0m\u001b[1;33m)\u001b[0m\u001b[1;33m\u001b[0m\u001b[1;33m\u001b[0m\u001b[0m\n\u001b[0;32m    597\u001b[0m         \"\"\"\n\u001b[1;32m--> 598\u001b[1;33m         \u001b[1;32mreturn\u001b[0m \u001b[0mself\u001b[0m\u001b[1;33m.\u001b[0m\u001b[0mfind_element\u001b[0m\u001b[1;33m(\u001b[0m\u001b[0mby\u001b[0m\u001b[1;33m=\u001b[0m\u001b[0mBy\u001b[0m\u001b[1;33m.\u001b[0m\u001b[0mCSS_SELECTOR\u001b[0m\u001b[1;33m,\u001b[0m \u001b[0mvalue\u001b[0m\u001b[1;33m=\u001b[0m\u001b[0mcss_selector\u001b[0m\u001b[1;33m)\u001b[0m\u001b[1;33m\u001b[0m\u001b[1;33m\u001b[0m\u001b[0m\n\u001b[0m\u001b[0;32m    599\u001b[0m \u001b[1;33m\u001b[0m\u001b[0m\n\u001b[0;32m    600\u001b[0m     \u001b[1;32mdef\u001b[0m \u001b[0mfind_elements_by_css_selector\u001b[0m\u001b[1;33m(\u001b[0m\u001b[0mself\u001b[0m\u001b[1;33m,\u001b[0m \u001b[0mcss_selector\u001b[0m\u001b[1;33m)\u001b[0m\u001b[1;33m:\u001b[0m\u001b[1;33m\u001b[0m\u001b[1;33m\u001b[0m\u001b[0m\n",
      "\u001b[1;32m~\\anaconda3\\lib\\site-packages\\selenium\\webdriver\\remote\\webdriver.py\u001b[0m in \u001b[0;36mfind_element\u001b[1;34m(self, by, value)\u001b[0m\n\u001b[0;32m    974\u001b[0m                 \u001b[0mby\u001b[0m \u001b[1;33m=\u001b[0m \u001b[0mBy\u001b[0m\u001b[1;33m.\u001b[0m\u001b[0mCSS_SELECTOR\u001b[0m\u001b[1;33m\u001b[0m\u001b[1;33m\u001b[0m\u001b[0m\n\u001b[0;32m    975\u001b[0m                 \u001b[0mvalue\u001b[0m \u001b[1;33m=\u001b[0m \u001b[1;34m'[name=\"%s\"]'\u001b[0m \u001b[1;33m%\u001b[0m \u001b[0mvalue\u001b[0m\u001b[1;33m\u001b[0m\u001b[1;33m\u001b[0m\u001b[0m\n\u001b[1;32m--> 976\u001b[1;33m         return self.execute(Command.FIND_ELEMENT, {\n\u001b[0m\u001b[0;32m    977\u001b[0m             \u001b[1;34m'using'\u001b[0m\u001b[1;33m:\u001b[0m \u001b[0mby\u001b[0m\u001b[1;33m,\u001b[0m\u001b[1;33m\u001b[0m\u001b[1;33m\u001b[0m\u001b[0m\n\u001b[0;32m    978\u001b[0m             'value': value})['value']\n",
      "\u001b[1;32m~\\anaconda3\\lib\\site-packages\\selenium\\webdriver\\remote\\webdriver.py\u001b[0m in \u001b[0;36mexecute\u001b[1;34m(self, driver_command, params)\u001b[0m\n\u001b[0;32m    319\u001b[0m         \u001b[0mresponse\u001b[0m \u001b[1;33m=\u001b[0m \u001b[0mself\u001b[0m\u001b[1;33m.\u001b[0m\u001b[0mcommand_executor\u001b[0m\u001b[1;33m.\u001b[0m\u001b[0mexecute\u001b[0m\u001b[1;33m(\u001b[0m\u001b[0mdriver_command\u001b[0m\u001b[1;33m,\u001b[0m \u001b[0mparams\u001b[0m\u001b[1;33m)\u001b[0m\u001b[1;33m\u001b[0m\u001b[1;33m\u001b[0m\u001b[0m\n\u001b[0;32m    320\u001b[0m         \u001b[1;32mif\u001b[0m \u001b[0mresponse\u001b[0m\u001b[1;33m:\u001b[0m\u001b[1;33m\u001b[0m\u001b[1;33m\u001b[0m\u001b[0m\n\u001b[1;32m--> 321\u001b[1;33m             \u001b[0mself\u001b[0m\u001b[1;33m.\u001b[0m\u001b[0merror_handler\u001b[0m\u001b[1;33m.\u001b[0m\u001b[0mcheck_response\u001b[0m\u001b[1;33m(\u001b[0m\u001b[0mresponse\u001b[0m\u001b[1;33m)\u001b[0m\u001b[1;33m\u001b[0m\u001b[1;33m\u001b[0m\u001b[0m\n\u001b[0m\u001b[0;32m    322\u001b[0m             response['value'] = self._unwrap_value(\n\u001b[0;32m    323\u001b[0m                 response.get('value', None))\n",
      "\u001b[1;32m~\\anaconda3\\lib\\site-packages\\selenium\\webdriver\\remote\\errorhandler.py\u001b[0m in \u001b[0;36mcheck_response\u001b[1;34m(self, response)\u001b[0m\n\u001b[0;32m    240\u001b[0m                 \u001b[0malert_text\u001b[0m \u001b[1;33m=\u001b[0m \u001b[0mvalue\u001b[0m\u001b[1;33m[\u001b[0m\u001b[1;34m'alert'\u001b[0m\u001b[1;33m]\u001b[0m\u001b[1;33m.\u001b[0m\u001b[0mget\u001b[0m\u001b[1;33m(\u001b[0m\u001b[1;34m'text'\u001b[0m\u001b[1;33m)\u001b[0m\u001b[1;33m\u001b[0m\u001b[1;33m\u001b[0m\u001b[0m\n\u001b[0;32m    241\u001b[0m             \u001b[1;32mraise\u001b[0m \u001b[0mexception_class\u001b[0m\u001b[1;33m(\u001b[0m\u001b[0mmessage\u001b[0m\u001b[1;33m,\u001b[0m \u001b[0mscreen\u001b[0m\u001b[1;33m,\u001b[0m \u001b[0mstacktrace\u001b[0m\u001b[1;33m,\u001b[0m \u001b[0malert_text\u001b[0m\u001b[1;33m)\u001b[0m\u001b[1;33m\u001b[0m\u001b[1;33m\u001b[0m\u001b[0m\n\u001b[1;32m--> 242\u001b[1;33m         \u001b[1;32mraise\u001b[0m \u001b[0mexception_class\u001b[0m\u001b[1;33m(\u001b[0m\u001b[0mmessage\u001b[0m\u001b[1;33m,\u001b[0m \u001b[0mscreen\u001b[0m\u001b[1;33m,\u001b[0m \u001b[0mstacktrace\u001b[0m\u001b[1;33m)\u001b[0m\u001b[1;33m\u001b[0m\u001b[1;33m\u001b[0m\u001b[0m\n\u001b[0m\u001b[0;32m    243\u001b[0m \u001b[1;33m\u001b[0m\u001b[0m\n\u001b[0;32m    244\u001b[0m     \u001b[1;32mdef\u001b[0m \u001b[0m_value_or_default\u001b[0m\u001b[1;33m(\u001b[0m\u001b[0mself\u001b[0m\u001b[1;33m,\u001b[0m \u001b[0mobj\u001b[0m\u001b[1;33m,\u001b[0m \u001b[0mkey\u001b[0m\u001b[1;33m,\u001b[0m \u001b[0mdefault\u001b[0m\u001b[1;33m)\u001b[0m\u001b[1;33m:\u001b[0m\u001b[1;33m\u001b[0m\u001b[1;33m\u001b[0m\u001b[0m\n",
      "\u001b[1;31mNoSuchElementException\u001b[0m: Message: no such element: Unable to locate element: {\"method\":\"css selector\",\"selector\":\"#rafAcdntInfoPoiList > li:nth-child(10)\"}\n  (Session info: chrome=94.0.4606.61)\n"
     ]
    }
   ],
   "source": [
    "latlon=[]\n",
    "import win32clipboard\n",
    "for j in range(0,55):\n",
    "    for i in range(2,12):\n",
    "        addr_btn= driver.find_element_by_css_selector(f\"#rafAcdntInfoPoiList > li:nth-child({i})\")\n",
    "        addr_btn.click()\n",
    "        time.sleep(3)\n",
    "    \n",
    "        ActionChains(driver).move_by_offset(680, 350).context_click().perform() # 마우스 마우스 오른쪽 버튼을 클릭하십시오\n",
    "        ActionChains(driver).move_by_offset(-680, -350).perform()\n",
    "        time.sleep(1)\n",
    "\n",
    "        coord= driver.find_element_by_css_selector(\"#txtCoord\")\n",
    "        pyautogui.click(clicks= 3, interval=0.1)\n",
    "\n",
    "        #rafAcdntInfoPoiList > li:nth-child(2)\n",
    "        pyautogui.hotkey('ctrl', 'c') # ctrl + c 키를 입력합니다. \n",
    "\n",
    "\n",
    "        win32clipboard.OpenClipboard()\n",
    "        s = win32clipboard.GetClipboardData(13)\n",
    "        win32clipboard.CloseClipboard()\n",
    "        latlon.append(s)\n",
    "    next_btn= driver.find_element_by_css_selector(\"#regionAccidentFindPagination > li.next > a\")\n",
    "    next_btn.click()\n"
   ]
  },
  {
   "cell_type": "code",
   "execution_count": 13,
   "id": "e9fef517",
   "metadata": {
    "scrolled": true
   },
   "outputs": [
    {
     "name": "stdout",
     "output_type": "stream",
     "text": [
      "['968260\\t1945855', '962782\\t1953445', '946213\\t1944763', '952031\\t1948235', '971517\\t1952138', '958352\\t1949187', '958867\\t1944845', '963618\\t1957193', '957837\\t1944963', '958197\\t1947095', '965762\\t1946315', '943152\\t1947339', '955481\\t1954059', '957797\\t1941171', '954604\\t1948315', '957463\\t1956526', '959500\\t1943703', '959781\\t1948621', '966730\\t1945450', '962462\\t1951586', '944345\\t1944415', '957688\\t1958352', '968359\\t1950050', '958954\\t1961999', '957097\\t1949500', '962190\\t1944189', '958756\\t1945299', '957794\\t1952866', '949702\\t1956586', '953439\\t1948458', '959397\\t1944225', '950823\\t1942766', '960370\\t1963836', '957889\\t1945824', '969509\\t1949691', '957861\\t1951081', '952263\\t1948871', '952773\\t1948250', '956573\\t1955083', '962282\\t1949630', '956736\\t1957170', '956732\\t1957167', '956742\\t1957181', '961357\\t1945308', '957942\\t1945815', '958947\\t1940231', '958200\\t1959442', '963986\\t1954753']\n"
     ]
    }
   ],
   "source": [
    "print(latlon)"
   ]
  },
  {
   "cell_type": "code",
   "execution_count": 14,
   "id": "ed5739a3",
   "metadata": {},
   "outputs": [],
   "source": [
    "latlon_a=[]\n",
    "for la in latlon:\n",
    "    latlon_a.append(la.split(\"\\t\"))\n",
    "    "
   ]
  },
  {
   "cell_type": "code",
   "execution_count": 15,
   "id": "1f805deb",
   "metadata": {},
   "outputs": [],
   "source": [
    "type(latlon)\n",
    "# col_name = 'latlon'\n",
    "# array1 = np.array(latlon)\n",
    "\n",
    "latlon_df = pd.DataFrame(latlon_a, columns=['lat','lon'])\n",
    "latlon_df.to_csv(\"test.csv\")"
   ]
  },
  {
   "cell_type": "code",
   "execution_count": 16,
   "id": "c445c183",
   "metadata": {},
   "outputs": [],
   "source": [
    "# df = pd.read_csv('C:/Users/dogu/accidentInfoList.csv', encoding=\"EUC-KR\")\n",
    "df_add= pd.read_csv(\"test.csv\")"
   ]
  },
  {
   "cell_type": "code",
   "execution_count": 17,
   "id": "5f92e99d",
   "metadata": {},
   "outputs": [],
   "source": [
    "df_final = pd.concat([df, df_add],axis=1) # row bind : axis = 0, default\n",
    "\n",
    "df_final.to_csv(\"2020년 결빙사고지점데이터.csv\",encoding=\"EUC-KR\")\n",
    "\n",
    "\n"
   ]
  },
  {
   "cell_type": "code",
   "execution_count": 2,
   "id": "e33248d9",
   "metadata": {},
   "outputs": [],
   "source": [
    "from selenium import webdriver\n",
    "from selenium.webdriver.support.ui import Select\n",
    "from selenium.webdriver.common.keys import Keys\n",
    "from selenium.webdriver import ActionChains\n",
    "import pandas as pd\n",
    "import numpy as np\n",
    "import time\n",
    "import requests\n",
    "import pyautogui \n",
    "import pyperclip"
   ]
  },
  {
   "cell_type": "code",
   "execution_count": 4,
   "id": "dc92cf71",
   "metadata": {},
   "outputs": [],
   "source": [
    "df_test= pd.read_csv(\"결빙사고지점데이터.csv\",encoding=\"EUC-KR\")\n",
    "df_test['EPDO']=df_test['사망자수']*12+df_test['중상자수']*5+df_test['경상자수']*3+df_test['부상신고자수']\n",
    "df_test.to_csv('결빙사고지점데이터_EPDO추가.csv',encoding=\"EUC-KR\")"
   ]
  },
  {
   "cell_type": "code",
   "execution_count": null,
   "id": "53234d31",
   "metadata": {},
   "outputs": [],
   "source": []
  }
 ],
 "metadata": {
  "kernelspec": {
   "display_name": "Python 3",
   "language": "python",
   "name": "python3"
  },
  "language_info": {
   "codemirror_mode": {
    "name": "ipython",
    "version": 3
   },
   "file_extension": ".py",
   "mimetype": "text/x-python",
   "name": "python",
   "nbconvert_exporter": "python",
   "pygments_lexer": "ipython3",
   "version": "3.8.8"
  }
 },
 "nbformat": 4,
 "nbformat_minor": 5
}
